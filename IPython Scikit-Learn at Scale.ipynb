{
 "metadata": {
  "celltoolbar": "Slideshow",
  "name": "",
  "signature": "sha256:d3be53191d85e7345fa01a12053bc86533527aeeab911d436989fc83d245bcba"
 },
 "nbformat": 3,
 "nbformat_minor": 0,
 "worksheets": [
  {
   "cells": [
    {
     "cell_type": "heading",
     "level": 1,
     "metadata": {
      "slideshow": {
       "slide_type": "slide"
      }
     },
     "source": [
      "Setup virtual environment"
     ]
    },
    {
     "cell_type": "code",
     "collapsed": false,
     "input": [
      "#%%bash\n",
      "# Miniconda allows to download binary instead of compiling like pip\n",
      "# get Miniconda http://conda.pydata.org/miniconda.html\n",
      "#wget http://repo.continuum.io/miniconda/Miniconda-3.0.5-Linux-x86_64.sh\n",
      "#bash Miniconda-3.0.5-Linux-x86_64.sh\n",
      "#conda create -n pysc --yes ipython pyzmq tornado jinja2 pandas pygments pip pycrypto\n",
      "#source activate pysc\n",
      "#pip install --upgrade starcluster"
     ],
     "language": "python",
     "metadata": {
      "slideshow": {
       "slide_type": "-"
      }
     },
     "outputs": [],
     "prompt_number": 1
    },
    {
     "cell_type": "heading",
     "level": 1,
     "metadata": {
      "slideshow": {
       "slide_type": "slide"
      }
     },
     "source": [
      "StarCluster configuration file"
     ]
    },
    {
     "cell_type": "code",
     "collapsed": false,
     "input": [
      "from ConfigParser import ConfigParser\n",
      "config = ConfigParser()"
     ],
     "language": "python",
     "metadata": {
      "slideshow": {
       "slide_type": "-"
      }
     },
     "outputs": [],
     "prompt_number": 2
    },
    {
     "cell_type": "heading",
     "level": 1,
     "metadata": {
      "slideshow": {
       "slide_type": "slide"
      }
     },
     "source": [
      "StarCluster configuration: credentials"
     ]
    },
    {
     "cell_type": "markdown",
     "metadata": {},
     "source": [
      "* Login at https://console.aws.amazon.com/iam/home?#users\n",
      "* Create new user\n",
      "* Download credentials as `credentials.csv`\n",
      "* Add Full EC2 and S3 permissions under Permissions\n",
      "![caption](files/screenshots/aws-create-user.png)"
     ]
    },
    {
     "cell_type": "code",
     "collapsed": false,
     "input": [
      "import pandas as pd\n",
      "# extract first row of csv\n",
      "credentials = pd.read_csv(\"credentials.csv\").ix[0]"
     ],
     "language": "python",
     "metadata": {
      "slideshow": {
       "slide_type": "subslide"
      }
     },
     "outputs": [],
     "prompt_number": 3
    },
    {
     "cell_type": "code",
     "collapsed": false,
     "input": [
      "config.add_section(\"aws info\")\n",
      "config.set(\"aws info\", \"aws_access_key_id\", credentials[\"Access Key Id\"])\n",
      "config.set(\"aws info\", \"aws_secret_access_key\", credentials[\"Secret Access Key\"])\n",
      "# these settings are optional and only used for creating new AMIs\n",
      "#aws_user_id= #your userid\n",
      "#ec2_cert = /path/to/your/ec2_cert.pem\n",
      "#ec2_private_key = /path/to/your/ec2_pk.pem\n"
     ],
     "language": "python",
     "metadata": {
      "slideshow": {
       "slide_type": "fragment"
      }
     },
     "outputs": [],
     "prompt_number": 4
    },
    {
     "cell_type": "heading",
     "level": 1,
     "metadata": {
      "slideshow": {
       "slide_type": "slide"
      }
     },
     "source": [
      "StarCluster configuration: key pairs"
     ]
    },
    {
     "cell_type": "markdown",
     "metadata": {},
     "source": [
      "* From EC2 console: https://console.aws.amazon.com/ec2\n",
      "* Click on Key Pairs\n",
      "* Create new Key Pair named `starcluster`\n",
      "* Move `starcluster.pem` in your working folder\n",
      "* Set permissions: `chmod 400 starcluster.pem`"
     ]
    },
    {
     "cell_type": "code",
     "collapsed": false,
     "input": [
      "# key pairs are region-specific\n",
      "config.set(\"aws info\", \"aws_region_name\", \"us-west-2\")\n",
      "config.set(\"aws info\", \"aws_region_host\", \"ec2.us-west-2.amazonaws.com\")\n",
      "config.add_section(\"keypair starcluster\")\n",
      "config.set(\"keypair starcluster\", \"key_location\", \"starcluster.pem\")"
     ],
     "language": "python",
     "metadata": {},
     "outputs": [],
     "prompt_number": 5
    },
    {
     "cell_type": "code",
     "collapsed": false,
     "input": [
      "with open(\"sc_conf.ini\", \"w\") as f:\n",
      "    config.write(f)"
     ],
     "language": "python",
     "metadata": {},
     "outputs": [],
     "prompt_number": 6
    },
    {
     "cell_type": "heading",
     "level": 1,
     "metadata": {
      "slideshow": {
       "slide_type": "slide"
      }
     },
     "source": [
      "Available starcluster images"
     ]
    },
    {
     "cell_type": "code",
     "collapsed": false,
     "input": [
      "%%bash\n",
      "starcluster -c sc_conf.ini listpublic | grep 64"
     ],
     "language": "python",
     "metadata": {},
     "outputs": [
      {
       "output_type": "stream",
       "stream": "stdout",
       "text": [
        "64bit Images:\n",
        "[0] ami-04bedf34 us-west-2 starcluster-base-ubuntu-13.04-x86_64 (EBS)\n",
        "[1] ami-80bedfb0 us-west-2 starcluster-base-ubuntu-13.04-x86_64-hvm (HVM-EBS)\n",
        "[2] ami-486afe78 us-west-2 starcluster-base-ubuntu-12.04-x86_64-hvm (HVM-EBS)\n",
        "[3] ami-706afe40 us-west-2 starcluster-base-ubuntu-12.04-x86_64 (EBS)\n",
        "[4] ami-c6bd30f6 us-west-2 starcluster-base-ubuntu-11.10-x86_64 (EBS)\n"
       ]
      },
      {
       "output_type": "stream",
       "stream": "stderr",
       "text": [
        "StarCluster - (http://star.mit.edu/cluster) (v. 0.95.2)\n",
        "Software Tools for Academics and Researchers (STAR)\n",
        "Please submit bug reports to starcluster@mit.edu\n",
        "\n"
       ]
      }
     ],
     "prompt_number": 7
    },
    {
     "cell_type": "heading",
     "level": 1,
     "metadata": {
      "slideshow": {
       "slide_type": "slide"
      }
     },
     "source": [
      "StarCluster configuration: cluster"
     ]
    },
    {
     "cell_type": "code",
     "collapsed": false,
     "input": [
      "sec = \"cluster testcluster\"\n",
      "config.add_section(sec)\n",
      "config.set(sec, \"keyname\", \"starcluster\")\n",
      "config.set(sec, \"cluster_size\", 2)\n",
      "config.set(sec, \"cluster_user\", \"sgeadmin\")\n",
      "ami = \"ami-706afe40\"\n",
      "instance = \"t1.micro\"\n",
      "for name in [\"master\", \"node\"]:\n",
      "    config.set(sec, name + \"_image_id\", ami)\n",
      "    config.set(sec, name + \"_instance_type\", instance)"
     ],
     "language": "python",
     "metadata": {},
     "outputs": [],
     "prompt_number": 8
    },
    {
     "cell_type": "code",
     "collapsed": false,
     "input": [
      "config.add_section(\"global\")\n",
      "config.set(\"global\", \"default_template\", \"testcluster\")"
     ],
     "language": "python",
     "metadata": {},
     "outputs": [],
     "prompt_number": 9
    },
    {
     "cell_type": "code",
     "collapsed": false,
     "input": [
      "with open(\"sc_conf.ini\", \"w\") as f:\n",
      "    config.write(f)"
     ],
     "language": "python",
     "metadata": {},
     "outputs": [],
     "prompt_number": 10
    },
    {
     "cell_type": "code",
     "collapsed": false,
     "input": [
      "#%%bash\n",
      "#starcluster -c sc_conf.ini createvolume -n ebs1gbwest2a -i ami-fa9cf1ca --detach-volume 1 us-west-2a "
     ],
     "language": "python",
     "metadata": {},
     "outputs": [
      {
       "output_type": "stream",
       "stream": "stdout",
       "text": [
        ">>> No keypair specified, picking one from config...\n",
        ">>> Using keypair: starcluster\n",
        ">>> No instance in group @sc-volumecreator for zone us-west-2a, launching one now.\n",
        "Reservation:r-dd8896d4\n",
        ">>> Waiting for volume host to come up... (updating every 30s)\n",
        ">>> Waiting for all nodes to be in a 'running' state...\n",
        ">>> Waiting for SSH to come up on all nodes...\n",
        ">>> Waiting for cluster to come up took 0.575 mins\n",
        ">>> Checking for required remote commands...\n",
        ">>> Creating 1GB volume in zone us-west-2a\n",
        ">>> New volume id: vol-18b1ab1a\n",
        ">>> Waiting for vol-18b1ab1a to become 'available'... \b \b|\b \b/\b \b-\b \b\\\b \b-\b \b|\b \b\n",
        ">>> Attaching volume vol-18b1ab1a to instance i-93b4549b...\n",
        ">>> Waiting for vol-18b1ab1a to transition to: attached... \b \b|\b \b/\b \b-\b \b\\\b \b-\b \b|\b \b\n",
        ">>> Formatting volume...\n",
        "Filesystem label=\n",
        "OS type: Linux\n",
        "Block size=4096 (log=2)\n",
        "Fragment size=4096 (log=2)\n",
        "Stride=0 blocks, Stripe width=0 blocks\n",
        "65536 inodes, 262144 blocks\n",
        "13107 blocks (5.00%) reserved for the super user\n",
        "First data block=0\n",
        "Maximum filesystem blocks=268435456\n",
        "8 block groups\n",
        "32768 blocks per group, 32768 fragments per group\n",
        "8192 inodes per group\n",
        "Superblock backups stored on blocks: \n",
        "\t32768, 98304, 163840, 229376\n",
        "\n",
        "Allocating group tables: 0/8\b\b\b1/8\b\b\b2/8\b\b\b3/8\b\b\b4/8\b\b\b5/8\b\b\b6/8\b\b\b7/8\b\b\b   \b\b\bdone                            \n",
        "Writing inode tables: 0/8\b\b\b1/8\b\b\b2/8\b\b\b3/8\b\b\b4/8\b\b\b5/8\b\b\b6/8\b\b\b7/8\b\b\b   \b\b\bdone                            \n",
        "Creating journal (8192 blocks): done\n",
        "Writing superblocks and filesystem accounting information: 0/8\b\b\b1/8\b\b\b2/8\b\b\b3/8\b\b\b4/8\b\b\b5/8\b\b\b6/8\b\b\b7/8\b\b\b   \b\b\bdone\n",
        "\n",
        "mke2fs 1.42 (29-Nov-2011)\n",
        ">>> Detaching volume vol-18b1ab1a from instance i-93b4549b\n",
        ">>> Not terminating host instance i-93b4549b\n",
        ">>> Your new 1GB volume vol-18b1ab1a has been created successfully\n",
        "*** WARNING - There are still volume hosts running: i-93b4549b\n",
        ">>> Creating volume took 0.896 mins\n"
       ]
      },
      {
       "output_type": "stream",
       "stream": "stderr",
       "text": [
        "StarCluster - (http://star.mit.edu/cluster) (v. 0.95.2)\n",
        "Software Tools for Academics and Researchers (STAR)\n",
        "Please submit bug reports to starcluster@mit.edu\n",
        "\n",
        "0/1 |                                                                  |   0%  \r",
        "0/1 |                                                                  |   0%  \r",
        "1/1 |||||||||||||||||||||||||||||||||||||||||||||||||||||||||||||||||||| 100%  \n",
        "0/1 |                                                                  |   0%  \r",
        "0/1 |                                                                  |   0%  \r",
        "0/1 |                                                                  |   0%  \r",
        "1/1 |||||||||||||||||||||||||||||||||||||||||||||||||||||||||||||||||||| 100%  \n"
       ]
      }
     ],
     "prompt_number": 11
    },
    {
     "cell_type": "markdown",
     "metadata": {},
     "source": [
      "```\n",
      "StarCluster - (http://star.mit.edu/cluster) (v. 0.95.2)\n",
      "Software Tools for Academics and Researchers (STAR)\n",
      "Please submit bug reports to starcluster@mit.edu\n",
      "\n",
      ">>> No keypair specified, picking one from config...\n",
      ">>> Using keypair: starcluster\n",
      ">>> Creating security group @sc-volumecreator...\n",
      ">>> No instance in group @sc-volumecreator for zone us-west-2a, launching one now.\n",
      "Reservation:r-eb9f81e2\n",
      ">>> Waiting for volume host to come up... (updating every 30s)\n",
      ">>> Waiting for all nodes to be in a 'running' state...\n",
      "1/1 |||||||||||||||||||||||||||||||||||||||||||||||||||||||||||||||||||| 100%  \n",
      ">>> Waiting for SSH to come up on all nodes...\n",
      "1/1 |||||||||||||||||||||||||||||||||||||||||||||||||||||||||||||||||||| 100%  \n",
      ">>> Waiting for cluster to come up took 0.606 mins\n",
      ">>> Checking for required remote commands...\n",
      ">>> Creating 1GB volume in zone us-west-2a\n",
      ">>> New volume id: vol-53829851\n",
      ">>> Waiting for vol-53829851 to become 'available'... \n",
      ">>> Attaching volume vol-53829851 to instance i-635cbd6b...\n",
      ">>> Waiting for vol-53829851 to transition to: attached... \n",
      ">>> Formatting volume...\n",
      "Filesystem label=\n",
      "OS type: Linux\n",
      "Block size=4096 (log=2)\n",
      "Fragment size=4096 (log=2)\n",
      "Stride=0 blocks, Stripe width=0 blocks\n",
      "65536 inodes, 262144 blocks\n",
      "13107 blocks (5.00%) reserved for the super user\n",
      "First data block=0\n",
      "Maximum filesystem blocks=268435456\n",
      "8 block groups\n",
      "32768 blocks per group, 32768 fragments per group\n",
      "8192 inodes per group\n",
      "Superblock backups stored on blocks: \n",
      "\t32768, 98304, 163840, 229376\n",
      "\n",
      "Allocating group tables: done                            \n",
      "Writing inode tables: done                            \n",
      "Creating journal (8192 blocks): done\n",
      "Writing superblocks and filesystem accounting information: done\n",
      "\n",
      "mke2fs 1.42 (29-Nov-2011)\n",
      ">>> Detaching volume vol-53829851 from instance i-635cbd6b\n",
      ">>> Not terminating host instance i-635cbd6b\n",
      ">>> Your new 1GB volume vol-53829851 has been created successfully\n",
      "*** WARNING - There are still volume hosts running: i-635cbd6b\n",
      ">>> Creating volume took 0.947 mins\n",
      "```"
     ]
    },
    {
     "cell_type": "code",
     "collapsed": false,
     "input": [
      "config.add_section(\"volume data\")\n",
      "# this is the Amazon EBS volume id\n",
      "config.set(\"volume data\", \"volume_id\", \"vol-53829851\")\n",
      "# the path to mount this EBS volume on\n",
      "# (this path will also be nfs shared to all nodes in the cluster)\n",
      "config.set(\"volume data\", \"mount_path\", \"/data\")\n",
      "config.set(\"cluster testcluster\", \"volumes\", \"data\")"
     ],
     "language": "python",
     "metadata": {
      "slideshow": {
       "slide_type": "subslide"
      }
     },
     "outputs": [],
     "prompt_number": 12
    },
    {
     "cell_type": "code",
     "collapsed": false,
     "input": [
      "with open(\"sc_conf.ini\", \"w\") as f:\n",
      "    config.write(f)"
     ],
     "language": "python",
     "metadata": {},
     "outputs": [],
     "prompt_number": 13
    },
    {
     "cell_type": "heading",
     "level": 1,
     "metadata": {
      "slideshow": {
       "slide_type": "slide"
      }
     },
     "source": [
      "StarCluster configuration: IPython"
     ]
    },
    {
     "cell_type": "code",
     "collapsed": false,
     "input": [
      "sec = \"plugin ipcluster\"\n",
      "config.add_section(sec)\n",
      "\n",
      "config.set(sec, \"setup_class\", \"starcluster.plugins.ipcluster.IPCluster\")\n",
      "config.set(sec, \"enable_notebook\", True)\n",
      "# set a password for the notebook for increased security\n",
      "config.set(sec, \"notebook_passwd\", \"mysupersecretpassword\")\n",
      "# pickle is faster for communication than the default JSON\n",
      "config.set(sec, \"packer\", \"pickle\")\n",
      "\n",
      "config.set(\"cluster testcluster\", \"plugins\", \"ipcluster\")"
     ],
     "language": "python",
     "metadata": {},
     "outputs": [],
     "prompt_number": 14
    },
    {
     "cell_type": "code",
     "collapsed": false,
     "input": [
      "with open(\"sc_conf.ini\", \"w\") as f:\n",
      "    config.write(f)"
     ],
     "language": "python",
     "metadata": {},
     "outputs": [],
     "prompt_number": 15
    },
    {
     "cell_type": "heading",
     "level": 1,
     "metadata": {
      "slideshow": {
       "slide_type": "slide"
      }
     },
     "source": [
      "EC2 Spot instances prices"
     ]
    },
    {
     "cell_type": "code",
     "collapsed": false,
     "input": [
      "%%bash\n",
      "starcluster -c sc_conf.ini spothistory t1.micro"
     ],
     "language": "python",
     "metadata": {},
     "outputs": [
      {
       "output_type": "stream",
       "stream": "stdout",
       "text": [
        ">>> Fetching spot history for t1.micro (VPC)\n",
        ">>> Current price: $0.0041\n",
        ">>> Max price: $10.0000\n",
        ">>> Average price: $0.1070\n"
       ]
      },
      {
       "output_type": "stream",
       "stream": "stderr",
       "text": [
        "StarCluster - (http://star.mit.edu/cluster) (v. 0.95.2)\n",
        "Software Tools for Academics and Researchers (STAR)\n",
        "Please submit bug reports to starcluster@mit.edu\n",
        "\n"
       ]
      }
     ],
     "prompt_number": 16
    },
    {
     "cell_type": "markdown",
     "metadata": {},
     "source": [
      "```\n",
      ">>> Fetching spot history for t1.micro (VPC)\n",
      ">>> Current price: $0.0041\n",
      ">>> Max price: $10.0000\n",
      ">>> Average price: $0.1070\n",
      "StarCluster - (http://star.mit.edu/cluster) (v. 0.95.2)\n",
      "Software Tools for Academics and Researchers (STAR)\n",
      "Please submit bug reports to starcluster@mit.edu\n",
      "```"
     ]
    },
    {
     "cell_type": "code",
     "collapsed": false,
     "input": [
      "%%bash\n",
      "starcluster -c sc_conf.ini start -s 1 testcluster"
     ],
     "language": "python",
     "metadata": {},
     "outputs": [
      {
       "output_type": "stream",
       "stream": "stdout",
       "text": [
        ">>> Using default cluster template: testcluster\n",
        ">>> Validating cluster template settings...\n",
        ">>> Cluster template settings are valid\n",
        ">>> Starting cluster...\n",
        ">>> Launching a 1-node cluster...\n",
        ">>> Creating security group @sc-testcluster...\n",
        "Reservation:r-22b9a72b\n",
        ">>> Waiting for cluster to come up... (updating every 30s)\n",
        ">>> Waiting for all nodes to be in a 'running' state...\n",
        ">>> Waiting for SSH to come up on all nodes...\n",
        ">>> Waiting for cluster to come up took 1.063 mins\n",
        ">>> The master node is ec2-54-186-168-4.us-west-2.compute.amazonaws.com\n",
        ">>> Configuring cluster...\n",
        ">>> Attaching volume vol-53829851 to master node on /dev/sdz ...\n",
        ">>> Waiting for vol-53829851 to transition to: attached... \b \b|\b \b/\b \b-\b \b\\\b \b-\b \b|\b \b\n",
        ">>> Running plugin starcluster.clustersetup.DefaultClusterSetup\n",
        ">>> Configuring hostnames...\n",
        ">>> Mounting EBS volume vol-53829851 on /data...\n",
        ">>> Creating cluster user: sgeadmin (uid: 1001, gid: 1001)\n",
        ">>> Configuring scratch space for user(s): sgeadmin\n",
        ">>> Configuring /etc/hosts on each node\n",
        ">>> Starting NFS server on master\n",
        ">>> Setting up NFS took 0.029 mins\n",
        ">>> Configuring passwordless ssh for root\n",
        ">>> Configuring passwordless ssh for sgeadmin\n",
        ">>> Running plugin starcluster.plugins.sge.SGEPlugin\n",
        ">>> Configuring SGE...\n",
        ">>> Setting up NFS took 0.000 mins\n",
        ">>> Installing Sun Grid Engine...\n",
        ">>> Creating SGE parallel environment 'orte'\n",
        ">>> Adding parallel environment 'orte' to queue 'all.q'\n",
        ">>> Running plugin ipcluster\n",
        ">>> Writing IPython cluster config files\n",
        ">>> Starting the IPython controller and 1 engines on master\n",
        ">>> Waiting for JSON connector file... \b \b|\b \b/\b \b-\b \b\n",
        ">>> Creating IPCluster cache directory: /home/zonca/.starcluster/ipcluster\n",
        ">>> Authorizing tcp ports [1000-65535] on 0.0.0.0/0 for: IPython controller\n",
        ">>> Setting up IPython web notebook for user: sgeadmin\n",
        ">>> Creating SSL certificate for user sgeadmin\n",
        ">>> Authorizing tcp ports [8888-8888] on 0.0.0.0/0 for: notebook\n",
        ">>> IPython notebook URL: https://ec2-54-186-168-4.us-west-2.compute.amazonaws.com:8888\n",
        ">>> The notebook password is: mysupersecretpassword\n",
        "*** WARNING - Please check your local firewall settings if you're having\n",
        "*** WARNING - issues connecting to the IPython notebook\n",
        ">>> IPCluster has been started on SecurityGroup:@sc-testcluster for user 'sgeadmin'\n",
        "with 1 engines on 1 nodes.\n",
        "\n",
        "To connect to cluster from your local machine use:\n",
        "\n",
        "from IPython.parallel import Client\n",
        "client = Client('/home/zonca/.starcluster/ipcluster/SecurityGroup:@sc-testcluster-us-west-2.json', sshkey='starcluster.pem')\n",
        "\n",
        "See the IPCluster plugin doc for usage details:\n",
        "http://star.mit.edu/cluster/docs/latest/plugins/ipython.html\n",
        "\n",
        ">>> IPCluster took 0.384 mins\n",
        ">>> Configuring cluster took 1.276 mins\n",
        ">>> Starting cluster took 2.382 mins\n",
        "\n",
        "The cluster is now ready to use. To login to the master node\n",
        "as root, run:\n",
        "\n",
        "    $ starcluster sshmaster testcluster\n",
        "\n",
        "If you're having issues with the cluster you can reboot the\n",
        "instances and completely reconfigure the cluster from\n",
        "scratch using:\n",
        "\n",
        "    $ starcluster restart testcluster\n",
        "\n",
        "When you're finished using the cluster and wish to terminate\n",
        "it and stop paying for service:\n",
        "\n",
        "    $ starcluster terminate testcluster\n",
        "\n",
        "Alternatively, if the cluster uses EBS instances, you can\n",
        "use the 'stop' command to shutdown all nodes and put them\n",
        "into a 'stopped' state preserving the EBS volumes backing\n",
        "the nodes:\n",
        "\n",
        "    $ starcluster stop testcluster\n",
        "\n",
        "WARNING: Any data stored in ephemeral storage (usually /mnt)\n",
        "will be lost!\n",
        "\n",
        "You can activate a 'stopped' cluster by passing the -x\n",
        "option to the 'start' command:\n",
        "\n",
        "    $ starcluster start -x testcluster\n",
        "\n",
        "This will start all 'stopped' nodes and reconfigure the\n",
        "cluster.\n"
       ]
      },
      {
       "output_type": "stream",
       "stream": "stderr",
       "text": [
        "StarCluster - (http://star.mit.edu/cluster) (v. 0.95.2)\n",
        "Software Tools for Academics and Researchers (STAR)\n",
        "Please submit bug reports to starcluster@mit.edu\n",
        "\n",
        "0/1 |                                                                  |   0%  \r",
        "0/1 |                                                                  |   0%  \r",
        "1/1 |||||||||||||||||||||||||||||||||||||||||||||||||||||||||||||||||||| 100%  \n",
        "0/1 |                                                                  |   0%  \r",
        "0/1 |                                                                  |   0%  \r",
        "0/1 |                                                                  |   0%  \r",
        "0/1 |                                                                  |   0%  \r",
        "0/1 |                                                                  |   0%  \r",
        "0/1 |                                                                  |   0%  \r",
        "0/1 |                                                                  |   0%  \r",
        "0/1 |                                                                  |   0%  \r",
        "0/1 |                                                                  |   0%  \r",
        "0/1 |                                                                  |   0%  \r",
        "0/1 |                                                                  |   0%  \r",
        "0/1 |                                                                  |   0%  \r",
        "0/1 |                                                                  |   0%  \r",
        "0/1 |                                                                  |   0%  \r",
        "0/1 |                                                                  |   0%  \r",
        "0/1 |                                                                  |   0%  \r",
        "0/1 |                                                                  |   0%  \r",
        "0/1 |                                                                  |   0%  \r",
        "0/1 |                                                                  |   0%  \r",
        "0/1 |                                                                  |   0%  \r",
        "0/1 |                                                                  |   0%  \r",
        "0/1 |                                                                  |   0%  \r",
        "0/1 |                                                                  |   0%  \r",
        "0/1 |                                                                  |   0%  \r",
        "0/1 |                                                                  |   0%  \r",
        "0/1 |                                                                  |   0%  \r",
        "0/1 |                                                                  |   0%  \r",
        "0/1 |                                                                  |   0%  \r",
        "0/1 |                                                                  |   0%  \r",
        "0/1 |                                                                  |   0%  \r",
        "0/1 |                                                                  |   0%  \r",
        "0/1 |                                                                  |   0%  \r",
        "1/1 |||||||||||||||||||||||||||||||||||||||||||||||||||||||||||||||||||| 100%  \n",
        "0/1 |                                                                  |   0%  \r",
        "1/1 |||||||||||||||||||||||||||||||||||||||||||||||||||||||||||||||||||| 100%  \n",
        "0/1 |                                                                  |   0%  \r",
        "1/1 |||||||||||||||||||||||||||||||||||||||||||||||||||||||||||||||||||| 100%  \n",
        "0/1 |                                                                  |   0%  \r",
        "1/1 |||||||||||||||||||||||||||||||||||||||||||||||||||||||||||||||||||| 100%  \n",
        "0/1 |                                                                  |   0%  \r",
        "1/1 |||||||||||||||||||||||||||||||||||||||||||||||||||||||||||||||||||| 100%  \n",
        "0/1 |                                                                  |   0%  \r",
        "1/1 |||||||||||||||||||||||||||||||||||||||||||||||||||||||||||||||||||| 100%  \n",
        "/home/zonca/.starcluster/ipcluster/SecurityGroup:@sc-testcluster-us-west-2.json   0% || ETA:  --:--:--   0.00 B/s\r",
        "/home/zonca/.starcluster/ipcluster/SecurityGroup:@sc-testcluster-us-west-2.json 100% || Time: 00:00:00   3.09 K/s\n"
       ]
      }
     ],
     "prompt_number": 17
    },
    {
     "cell_type": "markdown",
     "metadata": {},
     "source": [
      "```>>> Using default cluster template: testcluster\n",
      ">>> Validating cluster template settings...\n",
      ">>> Cluster template settings are valid\n",
      ">>> Starting cluster...\n",
      ">>> Launching a 1-node cluster...\n",
      ">>> Creating security group @sc-testcluster...\n",
      "Reservation:r-22b9a72b\n",
      ">>> Waiting for cluster to come up... (updating every 30s)\n",
      ">>> Waiting for all nodes to be in a 'running' state...\n",
      ">>> Waiting for SSH to come up on all nodes...\n",
      ">>> Waiting for cluster to come up took 1.063 mins\n",
      ">>> The master node is ec2-54-186-168-4.us-west-2.compute.amazonaws.com\n",
      ">>> Configuring cluster...\n",
      ">>> Attaching volume vol-53829851 to master node on /dev/sdz ...\n",
      ">>> Waiting for vol-53829851 to transition to: attached... \b \b|\b \b/\b \b-\b \b\\\b \b-\b \b|\b \b\n",
      ">>> Running plugin starcluster.clustersetup.DefaultClusterSetup\n",
      ">>> Configuring hostnames...\n",
      ">>> Mounting EBS volume vol-53829851 on /data...\n",
      ">>> Creating cluster user: sgeadmin (uid: 1001, gid: 1001)\n",
      ">>> Configuring scratch space for user(s): sgeadmin\n",
      ">>> Configuring /etc/hosts on each node\n",
      ">>> Starting NFS server on master\n",
      ">>> Setting up NFS took 0.029 mins\n",
      ">>> Configuring passwordless ssh for root\n",
      ">>> Configuring passwordless ssh for sgeadmin\n",
      ">>> Running plugin starcluster.plugins.sge.SGEPlugin\n",
      ">>> Configuring SGE...\n",
      ">>> Setting up NFS took 0.000 mins\n",
      ">>> Installing Sun Grid Engine...\n",
      ">>> Creating SGE parallel environment 'orte'\n",
      ">>> Adding parallel environment 'orte' to queue 'all.q'\n",
      ">>> Running plugin ipcluster\n",
      ">>> Writing IPython cluster config files\n",
      ">>> Starting the IPython controller and 1 engines on master\n",
      ">>> Waiting for JSON connector file... \b \b|\b \b/\b \b-\b \b\n",
      ">>> Creating IPCluster cache directory: /home/zonca/.starcluster/ipcluster\n",
      ">>> Authorizing tcp ports [1000-65535] on 0.0.0.0/0 for: IPython controller\n",
      ">>> Setting up IPython web notebook for user: sgeadmin\n",
      ">>> Creating SSL certificate for user sgeadmin\n",
      ">>> Authorizing tcp ports [8888-8888] on 0.0.0.0/0 for: notebook\n",
      ">>> IPython notebook URL: https://ec2-54-186-168-4.us-west-2.compute.amazonaws.com:8888\n",
      ">>> The notebook password is: mysupersecretpassword\n",
      "*** WARNING - Please check your local firewall settings if you're having\n",
      "*** WARNING - issues connecting to the IPython notebook\n",
      ">>> IPCluster has been started on SecurityGroup:@sc-testcluster for user 'sgeadmin'\n",
      "with 1 engines on 1 nodes.\n",
      "\n",
      "To connect to cluster from your local machine use:\n",
      "\n",
      "from IPython.parallel import Client\n",
      "client = Client('/home/zonca/.starcluster/ipcluster/SecurityGroup:@sc-testcluster-us-west-2.json', sshkey='starcluster.pem')\n",
      "\n",
      "See the IPCluster plugin doc for usage details:\n",
      "http://star.mit.edu/cluster/docs/latest/plugins/ipython.html\n",
      "\n",
      ">>> IPCluster took 0.384 mins\n",
      ">>> Configuring cluster took 1.276 mins\n",
      ">>> Starting cluster took 2.382 mins\n",
      "\n",
      "The cluster is now ready to use. To login to the master node\n",
      "as root, run:\n",
      "\n",
      "    $ starcluster sshmaster testcluster\n",
      "\n",
      "If you're having issues with the cluster you can reboot the\n",
      "instances and completely reconfigure the cluster from\n",
      "scratch using:\n",
      "\n",
      "    $ starcluster restart testcluster\n",
      "\n",
      "When you're finished using the cluster and wish to terminate\n",
      "it and stop paying for service:\n",
      "\n",
      "    $ starcluster terminate testcluster\n",
      "\n",
      "Alternatively, if the cluster uses EBS instances, you can\n",
      "use the 'stop' command to shutdown all nodes and put them\n",
      "into a 'stopped' state preserving the EBS volumes backing\n",
      "the nodes:\n",
      "\n",
      "    $ starcluster stop testcluster\n",
      "\n",
      "WARNING: Any data stored in ephemeral storage (usually /mnt)\n",
      "will be lost!\n",
      "\n",
      "You can activate a 'stopped' cluster by passing the -x\n",
      "option to the 'start' command:\n",
      "\n",
      "    $ starcluster start -x testcluster\n",
      "\n",
      "This will start all 'stopped' nodes and reconfigure the\n",
      "cluster.\n",
      "StarCluster - (http://star.mit.edu/cluster) (v. 0.95.2)\n",
      "Software Tools for Academics and Researchers (STAR)\n",
      "Please submit bug reports to starcluster@mit.edu\n",
      "\n",
      "1/1 |||||||||||||||||||||||||||||||||||||||||||||||||||||||||||||||||||| 100%  \n",
      "1/1 |||||||||||||||||||||||||||||||||||||||||||||||||||||||||||||||||||| 100%  \n",
      "1/1 |||||||||||||||||||||||||||||||||||||||||||||||||||||||||||||||||||| 100%  \n",
      "1/1 |||||||||||||||||||||||||||||||||||||||||||||||||||||||||||||||||||| 100%  \n",
      "1/1 |||||||||||||||||||||||||||||||||||||||||||||||||||||||||||||||||||| 100%  \n",
      "1/1 |||||||||||||||||||||||||||||||||||||||||||||||||||||||||||||||||||| 100%  \n",
      "1/1 |||||||||||||||||||||||||||||||||||||||||||||||||||||||||||||||||||| 100%  \n",
      "/home/zonca/.starcluster/ipcluster/SecurityGroup:@sc-testcluster-us-west-2.json 100% || Time: 00:00:00   3.09 K/s\n",
      "                ```"
     ]
    },
    {
     "cell_type": "code",
     "collapsed": false,
     "input": [
      "%%bash\n",
      "starcluster -c sc_conf.ini terminate testcluster"
     ],
     "language": "python",
     "metadata": {},
     "outputs": []
    },
    {
     "cell_type": "markdown",
     "metadata": {},
     "source": [
      "```StarCluster - (http://star.mit.edu/cluster) (v. 0.95.2)\n",
      "Software Tools for Academics and Researchers (STAR)\n",
      "Please submit bug reports to starcluster@mit.edu\n",
      "Terminate EBS cluster testcluster (y/n)? y\n",
      ">>> Running plugin starcluster.plugins.ipcluster.IPCluster\n",
      ">>> Running plugin starcluster.plugins.sge.SGEPlugin\n",
      ">>> Running plugin starcluster.clustersetup.DefaultClusterSetup\n",
      ">>> Detaching volume vol-53829851 from master\n",
      ">>> Terminating node: master (i-90896998)\n",
      ">>> Waiting for cluster to terminate... \n",
      ">>> Removing security group: @sc-testcluster \n",
      "```"
     ]
    }
   ],
   "metadata": {}
  }
 ]
}