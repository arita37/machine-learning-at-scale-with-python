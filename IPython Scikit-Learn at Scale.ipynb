{
 "metadata": {
  "celltoolbar": "Slideshow",
  "name": "",
  "signature": "sha256:7e4f8a5dbd3049b6b0f06ececa62a8eb81571e563416f3660938aa13318bfbc4"
 },
 "nbformat": 3,
 "nbformat_minor": 0,
 "worksheets": [
  {
   "cells": [
    {
     "cell_type": "heading",
     "level": 1,
     "metadata": {
      "slideshow": {
       "slide_type": "slide"
      }
     },
     "source": [
      "Setup virtual environment"
     ]
    },
    {
     "cell_type": "markdown",
     "metadata": {},
     "source": [
      "**Easier to just run the following commands at a terminal**"
     ]
    },
    {
     "cell_type": "code",
     "collapsed": false,
     "input": [
      "%%bash\n",
      "# Miniconda allows to download binary instead of compiling like pip\n",
      "# get Miniconda from http://conda.pydata.org/miniconda.html\n",
      "wget http://repo.continuum.io/miniconda/Miniconda-3.0.5-Linux-x86_64.sh\n",
      "bash Miniconda-3.0.5-Linux-x86_64.sh\n",
      "conda create -n pysc --yes ipython pyzmq tornado jinja2 pandas pygments pip pycrypto\n",
      "source activate pysc\n",
      "pip install --upgrade starcluster"
     ],
     "language": "python",
     "metadata": {
      "slideshow": {
       "slide_type": "-"
      }
     },
     "outputs": [],
     "prompt_number": 1
    },
    {
     "cell_type": "markdown",
     "metadata": {},
     "source": [
      "**Then open the ipython notebook within that conda environment, i.e. activate and run \"`ipython notebook`\"**"
     ]
    },
    {
     "cell_type": "heading",
     "level": 1,
     "metadata": {
      "slideshow": {
       "slide_type": "slide"
      }
     },
     "source": [
      "StarCluster configuration file"
     ]
    },
    {
     "cell_type": "code",
     "collapsed": false,
     "input": [
      "from ConfigParser import ConfigParser\n",
      "config = ConfigParser()"
     ],
     "language": "python",
     "metadata": {
      "slideshow": {
       "slide_type": "-"
      }
     },
     "outputs": [],
     "prompt_number": 3
    },
    {
     "cell_type": "heading",
     "level": 1,
     "metadata": {
      "slideshow": {
       "slide_type": "slide"
      }
     },
     "source": [
      "StarCluster configuration: credentials"
     ]
    },
    {
     "cell_type": "markdown",
     "metadata": {},
     "source": [
      "* Login at https://console.aws.amazon.com/iam/home?#users\n",
      "* Create new user\n",
      "* Download credentials as `credentials.csv`\n",
      "* Add Full EC2 and S3 permissions under Permissions\n",
      "![AWS create user](files/screenshots/aws-create-user.png)"
     ]
    },
    {
     "cell_type": "code",
     "collapsed": false,
     "input": [
      "import pandas as pd\n",
      "# extract first row of csv\n",
      "credentials = pd.read_csv(\"credentials.csv\").ix[0]"
     ],
     "language": "python",
     "metadata": {
      "slideshow": {
       "slide_type": "subslide"
      }
     },
     "outputs": [],
     "prompt_number": 4
    },
    {
     "cell_type": "code",
     "collapsed": false,
     "input": [
      "config.add_section(\"aws info\")\n",
      "config.set(\"aws info\", \"aws_access_key_id\", credentials[\"Access Key Id\"])\n",
      "config.set(\"aws info\", \"aws_secret_access_key\", credentials[\"Secret Access Key\"])"
     ],
     "language": "python",
     "metadata": {
      "slideshow": {
       "slide_type": "fragment"
      }
     },
     "outputs": [],
     "prompt_number": 5
    },
    {
     "cell_type": "heading",
     "level": 1,
     "metadata": {
      "slideshow": {
       "slide_type": "slide"
      }
     },
     "source": [
      "StarCluster configuration: key pairs"
     ]
    },
    {
     "cell_type": "markdown",
     "metadata": {},
     "source": [
      "* From EC2 console: https://console.aws.amazon.com/ec2\n",
      "* Click on Key Pairs\n",
      "* Create new Key Pair named `starcluster`\n",
      "* Move `starcluster.pem` in your working folder\n",
      "* Set permissions: `chmod 400 starcluster.pem`"
     ]
    },
    {
     "cell_type": "code",
     "collapsed": false,
     "input": [
      "# key pairs are region-specific\n",
      "config.set(\"aws info\", \"aws_region_name\", \"us-west-2\")\n",
      "config.set(\"aws info\", \"aws_region_host\", \"ec2.us-west-2.amazonaws.com\")\n",
      "config.add_section(\"keypair starcluster\")\n",
      "config.set(\"keypair starcluster\", \"key_location\", \"starcluster.pem\")"
     ],
     "language": "python",
     "metadata": {},
     "outputs": [],
     "prompt_number": 6
    },
    {
     "cell_type": "code",
     "collapsed": false,
     "input": [
      "import os.path\n",
      "def write_sc_conf(sc_conf):\n",
      "    \"\"\"Write starcluster configuration to ~/.starcluster/config\"\"\"\n",
      "    home = os.path.expanduser(\"~\")\n",
      "    with open(os.path.join(home, \".starcluster\", \"config\"), \"w\") as f:\n",
      "        config.write(f)"
     ],
     "language": "python",
     "metadata": {},
     "outputs": [],
     "prompt_number": 7
    },
    {
     "cell_type": "code",
     "collapsed": false,
     "input": [
      "write_sc_conf(config)"
     ],
     "language": "python",
     "metadata": {},
     "outputs": [],
     "prompt_number": 9
    },
    {
     "cell_type": "heading",
     "level": 1,
     "metadata": {
      "slideshow": {
       "slide_type": "slide"
      }
     },
     "source": [
      "Available starcluster images"
     ]
    },
    {
     "cell_type": "code",
     "collapsed": false,
     "input": [
      "%%bash\n",
      "starcluster listpublic | grep 64"
     ],
     "language": "python",
     "metadata": {},
     "outputs": [
      {
       "output_type": "stream",
       "stream": "stdout",
       "text": [
        "64bit Images:\n",
        "[0] ami-04bedf34 us-west-2 starcluster-base-ubuntu-13.04-x86_64 (EBS)\n",
        "[1] ami-80bedfb0 us-west-2 starcluster-base-ubuntu-13.04-x86_64-hvm (HVM-EBS)\n",
        "[2] ami-486afe78 us-west-2 starcluster-base-ubuntu-12.04-x86_64-hvm (HVM-EBS)\n",
        "[3] ami-706afe40 us-west-2 starcluster-base-ubuntu-12.04-x86_64 (EBS)\n",
        "[4] ami-c6bd30f6 us-west-2 starcluster-base-ubuntu-11.10-x86_64 (EBS)\n"
       ]
      },
      {
       "output_type": "stream",
       "stream": "stderr",
       "text": [
        "StarCluster - (http://star.mit.edu/cluster) (v. 0.95.2)\n",
        "Software Tools for Academics and Researchers (STAR)\n",
        "Please submit bug reports to starcluster@mit.edu\n",
        "\n"
       ]
      }
     ],
     "prompt_number": 7
    },
    {
     "cell_type": "heading",
     "level": 1,
     "metadata": {
      "slideshow": {
       "slide_type": "slide"
      }
     },
     "source": [
      "StarCluster configuration: cluster"
     ]
    },
    {
     "cell_type": "code",
     "collapsed": false,
     "input": [
      "sec = \"cluster pyec2\"\n",
      "config.add_section(sec)\n",
      "config.set(sec, \"keyname\", \"starcluster\")\n",
      "config.set(sec, \"cluster_size\", 1)\n",
      "config.set(sec, \"cluster_user\", \"ipuser\")\n",
      "config.set(sec, \"disable_queue\", True)\n",
      "ami = \"ami-706afe40\"\n",
      "instance = \"t1.micro\"\n",
      "for name in [\"master\", \"node\"]:\n",
      "    config.set(sec, name + \"_image_id\", ami)\n",
      "    config.set(sec, name + \"_instance_type\", instance)"
     ],
     "language": "python",
     "metadata": {},
     "outputs": [],
     "prompt_number": 8
    },
    {
     "cell_type": "code",
     "collapsed": false,
     "input": [
      "config.add_section(\"global\")\n",
      "config.set(\"global\", \"default_template\", \"pyec2\")"
     ],
     "language": "python",
     "metadata": {},
     "outputs": [],
     "prompt_number": 9
    },
    {
     "cell_type": "code",
     "collapsed": false,
     "input": [
      "write_sc_conf(config)"
     ],
     "language": "python",
     "metadata": {},
     "outputs": [],
     "prompt_number": 10
    },
    {
     "cell_type": "heading",
     "level": 1,
     "metadata": {
      "slideshow": {
       "slide_type": "slide"
      }
     },
     "source": [
      "StarCluster configuration: EBS volume"
     ]
    },
    {
     "cell_type": "code",
     "collapsed": false,
     "input": [
      "%%bash\n",
      "starcluster createvolume -n ebs1gbwest2a -i ami-fa9cf1ca --detach-volume 1 us-west-2a "
     ],
     "language": "python",
     "metadata": {},
     "outputs": []
    },
    {
     "cell_type": "markdown",
     "metadata": {},
     "source": [
      "```\n",
      "StarCluster - (http://star.mit.edu/cluster) (v. 0.95.2)\n",
      "Software Tools for Academics and Researchers (STAR)\n",
      "Please submit bug reports to starcluster@mit.edu\n",
      "\n",
      ">>> No keypair specified, picking one from config...\n",
      ">>> Using keypair: starcluster\n",
      ">>> Creating security group @sc-volumecreator...\n",
      ">>> No instance in group @sc-volumecreator for zone us-west-2a, launching one now.\n",
      "Reservation:r-eb9f81e2\n",
      ">>> Waiting for volume host to come up... (updating every 30s)\n",
      ">>> Waiting for all nodes to be in a 'running' state...\n",
      "1/1 |||||||||||||||||||||||||||||||||||||||||||||||||||||||||||||||||||| 100%  \n",
      ">>> Waiting for SSH to come up on all nodes...\n",
      "1/1 |||||||||||||||||||||||||||||||||||||||||||||||||||||||||||||||||||| 100%  \n",
      ">>> Waiting for cluster to come up took 0.606 mins\n",
      ">>> Checking for required remote commands...\n",
      ">>> Creating 1GB volume in zone us-west-2a\n",
      ">>> New volume id: vol-53829851\n",
      ">>> Waiting for vol-53829851 to become 'available'... \n",
      ">>> Attaching volume vol-53829851 to instance i-635cbd6b...\n",
      ">>> Waiting for vol-53829851 to transition to: attached... \n",
      ">>> Formatting volume...\n",
      "Filesystem label=\n",
      "OS type: Linux\n",
      "Block size=4096 (log=2)\n",
      "Fragment size=4096 (log=2)\n",
      "Stride=0 blocks, Stripe width=0 blocks\n",
      "65536 inodes, 262144 blocks\n",
      "13107 blocks (5.00%) reserved for the super user\n",
      "First data block=0\n",
      "Maximum filesystem blocks=268435456\n",
      "8 block groups\n",
      "32768 blocks per group, 32768 fragments per group\n",
      "8192 inodes per group\n",
      "Superblock backups stored on blocks: \n",
      "\t32768, 98304, 163840, 229376\n",
      "\n",
      "Allocating group tables: done                            \n",
      "Writing inode tables: done                            \n",
      "Creating journal (8192 blocks): done\n",
      "Writing superblocks and filesystem accounting information: done\n",
      "\n",
      "mke2fs 1.42 (29-Nov-2011)\n",
      ">>> Detaching volume vol-53829851 from instance i-635cbd6b\n",
      ">>> Not terminating host instance i-635cbd6b\n",
      ">>> Your new 1GB volume vol-53829851 has been created successfully\n",
      "*** WARNING - There are still volume hosts running: i-635cbd6b\n",
      ">>> Creating volume took 0.947 mins\n",
      "```"
     ]
    },
    {
     "cell_type": "code",
     "collapsed": false,
     "input": [
      "config.add_section(\"volume data\")\n",
      "# this is the Amazon EBS volume id\n",
      "config.set(\"volume data\", \"volume_id\", \"vol-53829851\")\n",
      "# the path to mount this EBS volume on\n",
      "# (this path will also be nfs shared to all nodes in the cluster)\n",
      "config.set(\"volume data\", \"mount_path\", \"/data\")\n",
      "config.set(\"cluster ipcluster\", \"volumes\", \"data\")"
     ],
     "language": "python",
     "metadata": {
      "slideshow": {
       "slide_type": "subslide"
      }
     },
     "outputs": [],
     "prompt_number": 12
    },
    {
     "cell_type": "code",
     "collapsed": false,
     "input": [
      "write_sc_conf(config)"
     ],
     "language": "python",
     "metadata": {
      "slideshow": {
       "slide_type": "subslide"
      }
     },
     "outputs": [],
     "prompt_number": 13
    },
    {
     "cell_type": "markdown",
     "metadata": {
      "slideshow": {
       "slide_type": "subslide"
      }
     },
     "source": [
      "![AWS volume](files/screenshots/aws-volume.png)"
     ]
    },
    {
     "cell_type": "heading",
     "level": 1,
     "metadata": {
      "slideshow": {
       "slide_type": "slide"
      }
     },
     "source": [
      "StarCluster configuration: IPython"
     ]
    },
    {
     "cell_type": "code",
     "collapsed": false,
     "input": [
      "sec = \"plugin ipcluster\"\n",
      "config.add_section(sec)\n",
      "config.set(sec, \"setup_class\", \"starcluster.plugins.ipcluster.IPCluster\")\n",
      "config.set(sec, \"enable_notebook\", True)\n",
      "# set a password for the notebook for increased security\n",
      "config.set(sec, \"notebook_passwd\", \"mysupersecretpassword\")\n",
      "\n",
      "# store notebooks on EBS!\n",
      "config.set(sec, \"notebook_directory\", \"/data\")\n",
      "\n",
      "# pickle is faster for communication than the default JSON\n",
      "config.set(sec, \"packer\", \"pickle\")\n",
      "\n",
      "config.add_section(\"plugin pypackages\")\n",
      "config.set(\"plugin pypackages\", \"setup_class\", \"starcluster.plugins.pypkginstaller.PyPkgInstaller\")\n",
      "config.set(\"plugin pypackages\", \"packages\", \"scikit-learn, psutil\")\n",
      "\n",
      "config.set(\"cluster pyec2\", \"plugins\", \"pypackages, ipcluster\")"
     ],
     "language": "python",
     "metadata": {},
     "outputs": [],
     "prompt_number": 14
    },
    {
     "cell_type": "code",
     "collapsed": false,
     "input": [
      "write_sc_conf(config)"
     ],
     "language": "python",
     "metadata": {},
     "outputs": [],
     "prompt_number": 15
    },
    {
     "cell_type": "heading",
     "level": 1,
     "metadata": {
      "slideshow": {
       "slide_type": "slide"
      }
     },
     "source": [
      "Launch a single instance"
     ]
    },
    {
     "cell_type": "code",
     "collapsed": false,
     "input": [
      "%%bash\n",
      "starcluster start -s 1 testcluster"
     ],
     "language": "python",
     "metadata": {},
     "outputs": []
    },
    {
     "cell_type": "markdown",
     "metadata": {},
     "source": [
      "```\n",
      ">>> Using default cluster template: testcluster\n",
      ">>> Validating cluster template settings...\n",
      ">>> Cluster template settings are valid\n",
      ">>> Starting cluster...\n",
      ">>> Launching a 1-node cluster...\n",
      ">>> Creating security group @sc-testcluster...\n",
      "Reservation:r-22b9a72b\n",
      ">>> Waiting for cluster to come up... (updating every 30s)\n",
      ">>> Waiting for all nodes to be in a 'running' state...\n",
      ">>> Waiting for SSH to come up on all nodes...\n",
      ">>> Waiting for cluster to come up took 1.063 mins\n",
      ">>> The master node is ec2-54-186-168-4.us-west-2.compute.amazonaws.com\n",
      ">>> Configuring cluster...\n",
      ">>> Attaching volume vol-53829851 to master node on /dev/sdz ...\n",
      ">>> Waiting for vol-53829851 to transition to: attached... \b \b|\b \b/\b \b-\b \b\\\b \b-\b \b|\b \b\n",
      ">>> Running plugin starcluster.clustersetup.DefaultClusterSetup\n",
      ">>> Configuring hostnames...\n",
      ">>> Mounting EBS volume vol-53829851 on /data...\n",
      ">>> Creating cluster user: sgeadmin (uid: 1001, gid: 1001)\n",
      ">>> Configuring scratch space for user(s): sgeadmin\n",
      ">>> Configuring /etc/hosts on each node\n",
      ">>> Starting NFS server on master\n",
      ">>> Setting up NFS took 0.029 mins\n",
      ">>> Configuring passwordless ssh for root\n",
      ">>> Configuring passwordless ssh for sgeadmin\n",
      ">>> Running plugin starcluster.plugins.sge.SGEPlugin\n",
      ">>> Configuring SGE...\n",
      ">>> Setting up NFS took 0.000 mins\n",
      ">>> Installing Sun Grid Engine...\n",
      ">>> Creating SGE parallel environment 'orte'\n",
      ">>> Adding parallel environment 'orte' to queue 'all.q'\n",
      ">>> Running plugin ipcluster\n",
      ">>> Writing IPython cluster config files\n",
      ">>> Starting the IPython controller and 1 engines on master\n",
      ">>> Waiting for JSON connector file... \b \b|\b \b/\b \b-\b \b\n",
      ">>> Creating IPCluster cache directory: /home/zonca/.starcluster/ipcluster\n",
      ">>> Authorizing tcp ports [1000-65535] on 0.0.0.0/0 for: IPython controller\n",
      ">>> Setting up IPython web notebook for user: sgeadmin\n",
      ">>> Creating SSL certificate for user sgeadmin\n",
      ">>> Authorizing tcp ports [8888-8888] on 0.0.0.0/0 for: notebook\n",
      ">>> IPython notebook URL: https://ec2-54-186-168-4.us-west-2.compute.amazonaws.com:8888\n",
      ">>> The notebook password is: mysupersecretpassword\n",
      "*** WARNING - Please check your local firewall settings if you're having\n",
      "*** WARNING - issues connecting to the IPython notebook\n",
      ">>> IPCluster has been started on SecurityGroup:@sc-testcluster for user 'sgeadmin'\n",
      "with 1 engines on 1 nodes.\n",
      "\n",
      "To connect to cluster from your local machine use:\n",
      "\n",
      "from IPython.parallel import Client\n",
      "client = Client('/home/zonca/.starcluster/ipcluster/SecurityGroup:@sc-testcluster-us-west-2.json', sshkey='starcluster.pem')\n",
      "\n",
      "See the IPCluster plugin doc for usage details:\n",
      "http://star.mit.edu/cluster/docs/latest/plugins/ipython.html\n",
      "\n",
      ">>> IPCluster took 0.384 mins\n",
      ">>> Configuring cluster took 1.276 mins\n",
      ">>> Starting cluster took 2.382 mins\n",
      "\n",
      "The cluster is now ready to use. To login to the master node\n",
      "as root, run:\n",
      "\n",
      "    $ starcluster sshmaster testcluster\n",
      "\n",
      "If you're having issues with the cluster you can reboot the\n",
      "instances and completely reconfigure the cluster from\n",
      "scratch using:\n",
      "\n",
      "    $ starcluster restart testcluster\n",
      "\n",
      "When you're finished using the cluster and wish to terminate\n",
      "it and stop paying for service:\n",
      "\n",
      "    $ starcluster terminate testcluster\n",
      "\n",
      "Alternatively, if the cluster uses EBS instances, you can\n",
      "use the 'stop' command to shutdown all nodes and put them\n",
      "into a 'stopped' state preserving the EBS volumes backing\n",
      "the nodes:\n",
      "\n",
      "    $ starcluster stop testcluster\n",
      "\n",
      "WARNING: Any data stored in ephemeral storage (usually /mnt)\n",
      "will be lost!\n",
      "\n",
      "You can activate a 'stopped' cluster by passing the -x\n",
      "option to the 'start' command:\n",
      "\n",
      "    $ starcluster start -x testcluster\n",
      "\n",
      "This will start all 'stopped' nodes and reconfigure the\n",
      "cluster.\n",
      "StarCluster - (http://star.mit.edu/cluster) (v. 0.95.2)\n",
      "Software Tools for Academics and Researchers (STAR)\n",
      "Please submit bug reports to starcluster@mit.edu\n",
      "\n",
      "1/1 |||||||||||||||||||||||||||||||||||||||||||||||||||||||||||||||||||| 100%  \n",
      "1/1 |||||||||||||||||||||||||||||||||||||||||||||||||||||||||||||||||||| 100%  \n",
      "1/1 |||||||||||||||||||||||||||||||||||||||||||||||||||||||||||||||||||| 100%  \n",
      "1/1 |||||||||||||||||||||||||||||||||||||||||||||||||||||||||||||||||||| 100%  \n",
      "1/1 |||||||||||||||||||||||||||||||||||||||||||||||||||||||||||||||||||| 100%  \n",
      "1/1 |||||||||||||||||||||||||||||||||||||||||||||||||||||||||||||||||||| 100%  \n",
      "1/1 |||||||||||||||||||||||||||||||||||||||||||||||||||||||||||||||||||| 100%  \n",
      "/home/zonca/.starcluster/ipcluster/SecurityGroup:@sc-testcluster-us-west-2.json 100% || Time: 00:00:00   3.09 K/s\n",
      "```"
     ]
    },
    {
     "cell_type": "code",
     "collapsed": false,
     "input": [
      "%%bash\n",
      "starcluster terminate ipcluster"
     ],
     "language": "python",
     "metadata": {
      "slideshow": {
       "slide_type": "subslide"
      }
     },
     "outputs": []
    },
    {
     "cell_type": "markdown",
     "metadata": {},
     "source": [
      "```\n",
      "StarCluster - (http://star.mit.edu/cluster) (v. 0.95.2)\n",
      "Software Tools for Academics and Researchers (STAR)\n",
      "Please submit bug reports to starcluster@mit.edu\n",
      "Terminate EBS cluster testcluster (y/n)? y\n",
      ">>> Running plugin starcluster.plugins.ipcluster.IPCluster\n",
      ">>> Running plugin starcluster.plugins.sge.SGEPlugin\n",
      ">>> Running plugin starcluster.clustersetup.DefaultClusterSetup\n",
      ">>> Detaching volume vol-53829851 from master\n",
      ">>> Terminating node: master (i-90896998)\n",
      ">>> Waiting for cluster to terminate... \n",
      ">>> Removing security group: @sc-testcluster \n",
      "```"
     ]
    },
    {
     "cell_type": "heading",
     "level": 1,
     "metadata": {
      "slideshow": {
       "slide_type": "slide"
      }
     },
     "source": [
      "Running scikit-learn on a single instance on EC2"
     ]
    },
    {
     "cell_type": "markdown",
     "metadata": {},
     "source": [
      "See example notebook on face recognition run on a **t1.micro** instance (half GB RAM)"
     ]
    },
    {
     "cell_type": "heading",
     "level": 1,
     "metadata": {
      "slideshow": {
       "slide_type": "slide"
      }
     },
     "source": [
      "Most interesting instance types"
     ]
    },
    {
     "cell_type": "markdown",
     "metadata": {},
     "source": [
      "\n",
      "* Micro for testing: **t1.micro**, 1 core, 0.6GB RAM, just EBS disk, $0.02/h \n",
      "\n",
      "* Medium size instance: **c3.2xlarge**, 8 cores, 15GB RAM, 2 x 80GB SSD\tat $0.6/h\n",
      "\n",
      "* Current largest instance: **c3.8xlarge**, 32 cores, 60GB RAM, 2 x 320GB SSD at $2.4/h\n"
     ]
    },
    {
     "cell_type": "code",
     "collapsed": false,
     "input": [],
     "language": "python",
     "metadata": {},
     "outputs": []
    },
    {
     "cell_type": "heading",
     "level": 1,
     "metadata": {
      "slideshow": {
       "slide_type": "slide"
      }
     },
     "source": [
      "EC2 Spot instances prices"
     ]
    },
    {
     "cell_type": "code",
     "collapsed": false,
     "input": [
      "%%bash\n",
      "starcluster spothistory c1.xlarge"
     ],
     "language": "python",
     "metadata": {},
     "outputs": []
    },
    {
     "cell_type": "markdown",
     "metadata": {},
     "source": [
      "```\n",
      ">>> Fetching spot history for c1.xlarge (VPC)\n",
      ">>> Current price: $0.1121\n",
      ">>> Max price: $0.2000\n",
      ">>> Average price: $0.1169\n",
      "StarCluster - (http://star.mit.edu/cluster) (v. 0.95.2)\n",
      "Software Tools for Academics and Researchers (STAR)\n",
      "Please submit bug reports to starcluster@mit.edu\n",
      "```"
     ]
    },
    {
     "cell_type": "markdown",
     "metadata": {},
     "source": [
      "**On-demand price was $0.58/hour, so saving about a factor of 4.**\n",
      "\n",
      "**Current largest instance: c3.8xlarge, 32 cores, 60GB, 2 x 320GB SSD\tat $2.4 per Hour**"
     ]
    },
    {
     "cell_type": "code",
     "collapsed": false,
     "input": [],
     "language": "python",
     "metadata": {},
     "outputs": []
    }
   ],
   "metadata": {}
  }
 ]
}