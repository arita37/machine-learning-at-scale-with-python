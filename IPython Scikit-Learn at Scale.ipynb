{
 "metadata": {
  "celltoolbar": "Slideshow",
  "name": "",
  "signature": "sha256:e5a9e4933ee2aa7597f96dbafa2fd2f087b461d2f84f3f26013c44adbf7acd87"
 },
 "nbformat": 3,
 "nbformat_minor": 0,
 "worksheets": [
  {
   "cells": [
    {
     "cell_type": "heading",
     "level": 1,
     "metadata": {
      "slideshow": {
       "slide_type": "slide"
      }
     },
     "source": [
      "Setup virtual environment"
     ]
    },
    {
     "cell_type": "code",
     "collapsed": false,
     "input": [
      "%%bash\n",
      "# Miniconda allows to download binary instead of compiling like pip\n",
      "# get Miniconda http://conda.pydata.org/miniconda.html\n",
      "wget http://repo.continuum.io/miniconda/Miniconda-3.0.5-Linux-x86_64.sh\n",
      "bash Miniconda-3.0.5-Linux-x86_64.sh\n",
      "conda create -n pysc --yes ipython pyzmq tornado jinja2 pandas pygments pip pycrypto\n",
      "source activate pysc\n",
      "pip install --upgrade starcluster"
     ],
     "language": "python",
     "metadata": {
      "slideshow": {
       "slide_type": "-"
      }
     },
     "outputs": []
    },
    {
     "cell_type": "heading",
     "level": 1,
     "metadata": {
      "slideshow": {
       "slide_type": "slide"
      }
     },
     "source": [
      "StarCluster configuration file"
     ]
    },
    {
     "cell_type": "code",
     "collapsed": false,
     "input": [
      "from ConfigParser import ConfigParser\n",
      "starcluster_config = ConfigParser()"
     ],
     "language": "python",
     "metadata": {
      "slideshow": {
       "slide_type": "-"
      }
     },
     "outputs": [],
     "prompt_number": 7
    },
    {
     "cell_type": "heading",
     "level": 1,
     "metadata": {
      "slideshow": {
       "slide_type": "slide"
      }
     },
     "source": [
      "StarCluster configuration: credentials"
     ]
    },
    {
     "cell_type": "markdown",
     "metadata": {},
     "source": [
      "* Login at https://console.aws.amazon.com/iam/home?#users\n",
      "* Create new user\n",
      "* Download credentials as `credentials.csv`\n",
      "* Add Full EC2 and S3 permissions under Permissions\n",
      "![caption](files/screenshots/aws-create-user.png)"
     ]
    },
    {
     "cell_type": "code",
     "collapsed": false,
     "input": [
      "import pandas as pd\n",
      "# extract first row of csv\n",
      "credentials = pd.read_csv(\"credentials.csv\").ix[0]"
     ],
     "language": "python",
     "metadata": {
      "slideshow": {
       "slide_type": "subslide"
      }
     },
     "outputs": [],
     "prompt_number": 8
    },
    {
     "cell_type": "code",
     "collapsed": false,
     "input": [
      "starcluster_config.add_section(\"aws info\")\n",
      "aws_access_key_id = credentials[\"Access Key Id\"]\n",
      "aws_secret_access_key = credentials[\"Secret Access Key\"]\n",
      "# these settings are optional and only used for creating new AMIs\n",
      "#aws_user_id= #your userid\n",
      "#ec2_cert = /path/to/your/ec2_cert.pem\n",
      "#ec2_private_key = /path/to/your/ec2_pk.pem"
     ],
     "language": "python",
     "metadata": {
      "slideshow": {
       "slide_type": "fragment"
      }
     },
     "outputs": [],
     "prompt_number": 9
    },
    {
     "cell_type": "code",
     "collapsed": false,
     "input": [],
     "language": "python",
     "metadata": {},
     "outputs": []
    }
   ],
   "metadata": {}
  }
 ]
}